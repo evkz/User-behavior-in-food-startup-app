{
 "cells": [
  {
   "cell_type": "markdown",
   "id": "ff2198f9",
   "metadata": {},
   "source": [
    "### Project Description:\n",
    "\n",
    "For a startup that sells food products, there is a need to investigate user behavior for the company's app:\n",
    "   * First study the sales funnel:\n",
    "        * How do users reach the purchase stage?\n",
    "        * How many users actually make it to this stage?\n",
    "        * How many get stuck at previous stages? \n",
    "        * Which stages in particular?\n",
    "    * Second: The designers would like to change the fonts for the entire app. the managers are afraid the users might find the new design intimidating. They decide to make a decision based on the results of an A/A/B test. The users are split into three groups: two control groups get the old fonts and one test group gets the new ones.\n",
    "        * Which set of fonts produces better results?\n",
    "        * Creating two A groups has certain advantages. \n",
    "        * We can make it a principle that we will only be confident in the accuracy of our testing when the two control groups are similar. \n",
    "       * If there are significant differences between the A groups, this can help us uncover factors that may be distorting the results. \n",
    "       * Comparing control groups also tells us how much time and data we'll need when running further tests.\n",
    "\n",
    "we'll be using the same dataset for general analytics and for A/A/B analysis. In real projects, experiments are constantly being conducted. \n",
    "Analysts study the quality of an app using general data, without paying attention to whether users are participating in experiments."
   ]
  },
  {
   "cell_type": "markdown",
   "id": "89b8725b",
   "metadata": {},
   "source": [
    "### Table of contents:\n",
    "1. [Description of the data](#Description-of-the-data:)\n",
    "\n",
    "\n",
    "2. [Open the data file and read the general information:](#Step-1.-Open-the-data-file-and-read-the-general-information:)\n",
    "\n",
    "\n",
    "3. [Prepare the data for analysis:](#Step-2.-Prepare-the-data-for-analysis:)\n",
    "\n",
    "\n",
    "4. [Study and check the data](#Step-3.-Study-and-check-the-data:)\n",
    "\n",
    "    4.1 [How many events are in the logs? How many users are in the logs? What's the average number of events per user?](#number-of-logs,-number-of-users:)\n",
    "    \n",
    "    4.2 [Excluding the older data, and make sure nothing important got lost:](#Excluding-the-older-data,-and-make-sure-nothing-important-got-lost:)\n",
    "    \n",
    "    \n",
    "5. [Study the event funnel and number of users who performed each of the actions:](#Step-4.-Study-the-event-funnel:)\n",
    "\n",
    "    5.1 [frequency of occurrence:](#frequency-of-occurrence:)\n",
    "    \n",
    "    5.2 [funnel](#funnel:)\n",
    "    \n",
    "  \n",
    "6. [Study the results of the experiment:](#Step-5.-Study-the-results-of-the-experiment:)\n",
    "\n",
    "    6.1 [AA test](#in-the-following-steps-we-will-check-if-there-is-a-statistically-significant-difference-between-samples-246-and-247.)\n",
    "    \n",
    "    6.2 [Comparison between experiment 248 with each of the control groups for each event in isolation:](#Comparison-between--experiment-248-with-each-of-the-control-groups-for-each-event-in-isolation:)\n",
    "    \n",
    "    6.3 [Comparison between experiment 248 with the combination of the control groups for each event in isolation:](#Comparison-between--experiment-248-with-the-combination-of-the-control-groups-for-each-event-in-isolation:)\n",
    "    \n",
    "    6.4 [conclusion](#conclusion:)\n",
    "    "
   ]
  },
  {
   "cell_type": "markdown",
   "id": "fb226fa5",
   "metadata": {},
   "source": [
    "### Description of the data:\n",
    "Each log entry is a user action or an event:\n",
    "* EventName — event name\n",
    "* DeviceIDHash — unique user identifier\n",
    "* EventTimestamp — event time\n",
    "* ExpId — experiment numbers: 246 and 247 are the control groups, and 248 is the test group"
   ]
  },
  {
   "cell_type": "markdown",
   "id": "5cd124b9",
   "metadata": {},
   "source": [
    "### Step 1. Open the data file and read the general information:"
   ]
  },
  {
   "cell_type": "code",
   "execution_count": 1,
   "id": "3a294748",
   "metadata": {},
   "outputs": [],
   "source": [
    "# Loading the libraries\n",
    "import pandas as pd\n",
    "import numpy as np\n",
    "from pandas_profiling import ProfileReport\n",
    "from datetime import datetime\n",
    "import plotly.express as px\n",
    "from plotly import graph_objects as go\n",
    "from statsmodels.stats.proportion import proportions_ztest"
   ]
  },
  {
   "cell_type": "code",
   "execution_count": 2,
   "id": "4ea83dc4",
   "metadata": {},
   "outputs": [
    {
     "data": {
      "text/html": [
       "<div>\n",
       "<style scoped>\n",
       "    .dataframe tbody tr th:only-of-type {\n",
       "        vertical-align: middle;\n",
       "    }\n",
       "\n",
       "    .dataframe tbody tr th {\n",
       "        vertical-align: top;\n",
       "    }\n",
       "\n",
       "    .dataframe thead th {\n",
       "        text-align: right;\n",
       "    }\n",
       "</style>\n",
       "<table border=\"1\" class=\"dataframe\">\n",
       "  <thead>\n",
       "    <tr style=\"text-align: right;\">\n",
       "      <th></th>\n",
       "      <th>EventName</th>\n",
       "      <th>DeviceIDHash</th>\n",
       "      <th>EventTimestamp</th>\n",
       "      <th>ExpId</th>\n",
       "    </tr>\n",
       "  </thead>\n",
       "  <tbody>\n",
       "    <tr>\n",
       "      <th>161918</th>\n",
       "      <td>OffersScreenAppear</td>\n",
       "      <td>4233162799441605888</td>\n",
       "      <td>1565015238</td>\n",
       "      <td>248</td>\n",
       "    </tr>\n",
       "    <tr>\n",
       "      <th>81569</th>\n",
       "      <td>MainScreenAppear</td>\n",
       "      <td>5696093535989664031</td>\n",
       "      <td>1564821202</td>\n",
       "      <td>248</td>\n",
       "    </tr>\n",
       "    <tr>\n",
       "      <th>105771</th>\n",
       "      <td>OffersScreenAppear</td>\n",
       "      <td>4019459067081772785</td>\n",
       "      <td>1564860610</td>\n",
       "      <td>246</td>\n",
       "    </tr>\n",
       "    <tr>\n",
       "      <th>76371</th>\n",
       "      <td>MainScreenAppear</td>\n",
       "      <td>8841768891130937973</td>\n",
       "      <td>1564807928</td>\n",
       "      <td>248</td>\n",
       "    </tr>\n",
       "    <tr>\n",
       "      <th>131035</th>\n",
       "      <td>MainScreenAppear</td>\n",
       "      <td>3041995274047263770</td>\n",
       "      <td>1564933849</td>\n",
       "      <td>247</td>\n",
       "    </tr>\n",
       "  </tbody>\n",
       "</table>\n",
       "</div>"
      ],
      "text/plain": [
       "                 EventName         DeviceIDHash  EventTimestamp  ExpId\n",
       "161918  OffersScreenAppear  4233162799441605888      1565015238    248\n",
       "81569     MainScreenAppear  5696093535989664031      1564821202    248\n",
       "105771  OffersScreenAppear  4019459067081772785      1564860610    246\n",
       "76371     MainScreenAppear  8841768891130937973      1564807928    248\n",
       "131035    MainScreenAppear  3041995274047263770      1564933849    247"
      ]
     },
     "execution_count": 2,
     "metadata": {},
     "output_type": "execute_result"
    }
   ],
   "source": [
    "try:\n",
    "    logs = pd.read_csv('/datasets/logs_exp_us.csv', sep='\\t')\n",
    "\n",
    "except:\n",
    "     logs = pd.read_csv('logs_exp_us.csv', sep='\\t')\n",
    "\n",
    "logs.sample(5)"
   ]
  },
  {
   "cell_type": "code",
   "execution_count": 3,
   "id": "97e67b99",
   "metadata": {
    "scrolled": false
   },
   "outputs": [
    {
     "data": {
      "text/html": [
       "<div>\n",
       "<style scoped>\n",
       "    .dataframe tbody tr th:only-of-type {\n",
       "        vertical-align: middle;\n",
       "    }\n",
       "\n",
       "    .dataframe tbody tr th {\n",
       "        vertical-align: top;\n",
       "    }\n",
       "\n",
       "    .dataframe thead th {\n",
       "        text-align: right;\n",
       "    }\n",
       "</style>\n",
       "<table border=\"1\" class=\"dataframe\">\n",
       "  <thead>\n",
       "    <tr style=\"text-align: right;\">\n",
       "      <th></th>\n",
       "      <th>EventName</th>\n",
       "      <th>DeviceIDHash</th>\n",
       "      <th>EventTimestamp</th>\n",
       "      <th>ExpId</th>\n",
       "      <th>date</th>\n",
       "      <th>time</th>\n",
       "    </tr>\n",
       "  </thead>\n",
       "  <tbody>\n",
       "    <tr>\n",
       "      <th>0</th>\n",
       "      <td>MainScreenAppear</td>\n",
       "      <td>4575588528974610257</td>\n",
       "      <td>1564029816</td>\n",
       "      <td>246</td>\n",
       "      <td>2019-07-25</td>\n",
       "      <td>04:43:36</td>\n",
       "    </tr>\n",
       "    <tr>\n",
       "      <th>1</th>\n",
       "      <td>MainScreenAppear</td>\n",
       "      <td>7416695313311560658</td>\n",
       "      <td>1564053102</td>\n",
       "      <td>246</td>\n",
       "      <td>2019-07-25</td>\n",
       "      <td>11:11:42</td>\n",
       "    </tr>\n",
       "    <tr>\n",
       "      <th>2</th>\n",
       "      <td>PaymentScreenSuccessful</td>\n",
       "      <td>3518123091307005509</td>\n",
       "      <td>1564054127</td>\n",
       "      <td>248</td>\n",
       "      <td>2019-07-25</td>\n",
       "      <td>11:28:47</td>\n",
       "    </tr>\n",
       "  </tbody>\n",
       "</table>\n",
       "</div>"
      ],
      "text/plain": [
       "                 EventName         DeviceIDHash  EventTimestamp  ExpId  \\\n",
       "0         MainScreenAppear  4575588528974610257      1564029816    246   \n",
       "1         MainScreenAppear  7416695313311560658      1564053102    246   \n",
       "2  PaymentScreenSuccessful  3518123091307005509      1564054127    248   \n",
       "\n",
       "         date      time  \n",
       "0  2019-07-25  04:43:36  \n",
       "1  2019-07-25  11:11:42  \n",
       "2  2019-07-25  11:28:47  "
      ]
     },
     "execution_count": 3,
     "metadata": {},
     "output_type": "execute_result"
    }
   ],
   "source": [
    "# Change the timestamp into two different date and time columns:\n",
    "date_time = pd.to_datetime(logs['EventTimestamp'], unit ='s')\n",
    "logs['date'] = pd.to_datetime(date_time).dt.date\n",
    "logs['time'] = pd.to_datetime(date_time).dt.time\n",
    "logs.head(3)"
   ]
  },
  {
   "cell_type": "code",
   "execution_count": 4,
   "id": "f0712506",
   "metadata": {},
   "outputs": [
    {
     "name": "stdout",
     "output_type": "stream",
     "text": [
      "<class 'pandas.core.frame.DataFrame'>\n",
      "RangeIndex: 244126 entries, 0 to 244125\n",
      "Data columns (total 6 columns):\n",
      " #   Column          Non-Null Count   Dtype \n",
      "---  ------          --------------   ----- \n",
      " 0   EventName       244126 non-null  object\n",
      " 1   DeviceIDHash    244126 non-null  int64 \n",
      " 2   EventTimestamp  244126 non-null  int64 \n",
      " 3   ExpId           244126 non-null  int64 \n",
      " 4   date            244126 non-null  object\n",
      " 5   time            244126 non-null  object\n",
      "dtypes: int64(3), object(3)\n",
      "memory usage: 11.2+ MB\n"
     ]
    }
   ],
   "source": [
    "logs.info()"
   ]
  },
  {
   "cell_type": "markdown",
   "id": "e67d2189",
   "metadata": {},
   "source": [
    "### Step 2. Prepare the data for analysis:  "
   ]
  },
  {
   "cell_type": "code",
   "execution_count": 5,
   "id": "7ce2b663",
   "metadata": {},
   "outputs": [],
   "source": [
    "# Rename the columns:\n",
    "logs.columns=['event_name','device_id','event_timestamp','exp_id', 'date', 'time']"
   ]
  },
  {
   "cell_type": "code",
   "execution_count": 6,
   "id": "46816afb",
   "metadata": {
    "scrolled": true
   },
   "outputs": [],
   "source": [
    "# profile report does not work on platform, I just want u to see that I cheke  the data foe zeros and duplicates:\n",
    "# using profile report to see if ther's any duplicate, zero's and what are the unique values:\n",
    "# profile_logs = ProfileReport(logs)\n",
    "# display(profile_logs)"
   ]
  },
  {
   "cell_type": "markdown",
   "id": "87daa16a",
   "metadata": {},
   "source": [
    "**By profile report:**\n",
    "\n",
    "* logs table has 5 columns and 244,126 rows.\n",
    "* there are 355 duplicate rows, and there are rows that repeat 5 and 4 times. I'm going to drop the duplicates\n",
    "* event_name has 5 distinct values: \n",
    "    * MainScreenAppear 119,205\n",
    "    * OffersScreenAppear 46,825\n",
    "    * CartScreenAppear 42,731\n",
    "    * PaymentScreenSucces 34,313\n",
    "    * Tutorial 1,052.\n",
    "* exp_id has 3 distinct values:\n",
    "    * 248 (test group): 85,747\n",
    "    * 246 (control group): 80,304\n",
    "    * 247 (control group): 78,075\n",
    "* date_time: 25/07/2019 - 07/08/2019\n",
    "* There are no missing values or zeroes. \n"
   ]
  },
  {
   "cell_type": "code",
   "execution_count": 7,
   "id": "5ad88a1b",
   "metadata": {},
   "outputs": [
    {
     "data": {
      "text/html": [
       "<div>\n",
       "<style scoped>\n",
       "    .dataframe tbody tr th:only-of-type {\n",
       "        vertical-align: middle;\n",
       "    }\n",
       "\n",
       "    .dataframe tbody tr th {\n",
       "        vertical-align: top;\n",
       "    }\n",
       "\n",
       "    .dataframe thead th {\n",
       "        text-align: right;\n",
       "    }\n",
       "</style>\n",
       "<table border=\"1\" class=\"dataframe\">\n",
       "  <thead>\n",
       "    <tr style=\"text-align: right;\">\n",
       "      <th></th>\n",
       "      <th>event_name</th>\n",
       "      <th>device_id</th>\n",
       "      <th>event_timestamp</th>\n",
       "      <th>exp_id</th>\n",
       "      <th>date</th>\n",
       "      <th>time</th>\n",
       "    </tr>\n",
       "  </thead>\n",
       "  <tbody>\n",
       "    <tr>\n",
       "      <th>0</th>\n",
       "      <td>MainScreenAppear</td>\n",
       "      <td>4575588528974610257</td>\n",
       "      <td>1564029816</td>\n",
       "      <td>246</td>\n",
       "      <td>2019-07-25</td>\n",
       "      <td>04:43:36</td>\n",
       "    </tr>\n",
       "    <tr>\n",
       "      <th>1</th>\n",
       "      <td>MainScreenAppear</td>\n",
       "      <td>7416695313311560658</td>\n",
       "      <td>1564053102</td>\n",
       "      <td>246</td>\n",
       "      <td>2019-07-25</td>\n",
       "      <td>11:11:42</td>\n",
       "    </tr>\n",
       "    <tr>\n",
       "      <th>2</th>\n",
       "      <td>PaymentScreenSuccessful</td>\n",
       "      <td>3518123091307005509</td>\n",
       "      <td>1564054127</td>\n",
       "      <td>248</td>\n",
       "      <td>2019-07-25</td>\n",
       "      <td>11:28:47</td>\n",
       "    </tr>\n",
       "    <tr>\n",
       "      <th>3</th>\n",
       "      <td>CartScreenAppear</td>\n",
       "      <td>3518123091307005509</td>\n",
       "      <td>1564054127</td>\n",
       "      <td>248</td>\n",
       "      <td>2019-07-25</td>\n",
       "      <td>11:28:47</td>\n",
       "    </tr>\n",
       "    <tr>\n",
       "      <th>4</th>\n",
       "      <td>PaymentScreenSuccessful</td>\n",
       "      <td>6217807653094995999</td>\n",
       "      <td>1564055322</td>\n",
       "      <td>248</td>\n",
       "      <td>2019-07-25</td>\n",
       "      <td>11:48:42</td>\n",
       "    </tr>\n",
       "    <tr>\n",
       "      <th>...</th>\n",
       "      <td>...</td>\n",
       "      <td>...</td>\n",
       "      <td>...</td>\n",
       "      <td>...</td>\n",
       "      <td>...</td>\n",
       "      <td>...</td>\n",
       "    </tr>\n",
       "    <tr>\n",
       "      <th>243708</th>\n",
       "      <td>MainScreenAppear</td>\n",
       "      <td>4599628364049201812</td>\n",
       "      <td>1565212345</td>\n",
       "      <td>247</td>\n",
       "      <td>2019-08-07</td>\n",
       "      <td>21:12:25</td>\n",
       "    </tr>\n",
       "    <tr>\n",
       "      <th>243709</th>\n",
       "      <td>MainScreenAppear</td>\n",
       "      <td>5849806612437486590</td>\n",
       "      <td>1565212439</td>\n",
       "      <td>246</td>\n",
       "      <td>2019-08-07</td>\n",
       "      <td>21:13:59</td>\n",
       "    </tr>\n",
       "    <tr>\n",
       "      <th>243710</th>\n",
       "      <td>MainScreenAppear</td>\n",
       "      <td>5746969938801999050</td>\n",
       "      <td>1565212483</td>\n",
       "      <td>246</td>\n",
       "      <td>2019-08-07</td>\n",
       "      <td>21:14:43</td>\n",
       "    </tr>\n",
       "    <tr>\n",
       "      <th>243711</th>\n",
       "      <td>MainScreenAppear</td>\n",
       "      <td>5746969938801999050</td>\n",
       "      <td>1565212498</td>\n",
       "      <td>246</td>\n",
       "      <td>2019-08-07</td>\n",
       "      <td>21:14:58</td>\n",
       "    </tr>\n",
       "    <tr>\n",
       "      <th>243712</th>\n",
       "      <td>OffersScreenAppear</td>\n",
       "      <td>5746969938801999050</td>\n",
       "      <td>1565212517</td>\n",
       "      <td>246</td>\n",
       "      <td>2019-08-07</td>\n",
       "      <td>21:15:17</td>\n",
       "    </tr>\n",
       "  </tbody>\n",
       "</table>\n",
       "<p>243713 rows × 6 columns</p>\n",
       "</div>"
      ],
      "text/plain": [
       "                     event_name            device_id  event_timestamp  exp_id  \\\n",
       "0              MainScreenAppear  4575588528974610257       1564029816     246   \n",
       "1              MainScreenAppear  7416695313311560658       1564053102     246   \n",
       "2       PaymentScreenSuccessful  3518123091307005509       1564054127     248   \n",
       "3              CartScreenAppear  3518123091307005509       1564054127     248   \n",
       "4       PaymentScreenSuccessful  6217807653094995999       1564055322     248   \n",
       "...                         ...                  ...              ...     ...   \n",
       "243708         MainScreenAppear  4599628364049201812       1565212345     247   \n",
       "243709         MainScreenAppear  5849806612437486590       1565212439     246   \n",
       "243710         MainScreenAppear  5746969938801999050       1565212483     246   \n",
       "243711         MainScreenAppear  5746969938801999050       1565212498     246   \n",
       "243712       OffersScreenAppear  5746969938801999050       1565212517     246   \n",
       "\n",
       "              date      time  \n",
       "0       2019-07-25  04:43:36  \n",
       "1       2019-07-25  11:11:42  \n",
       "2       2019-07-25  11:28:47  \n",
       "3       2019-07-25  11:28:47  \n",
       "4       2019-07-25  11:48:42  \n",
       "...            ...       ...  \n",
       "243708  2019-08-07  21:12:25  \n",
       "243709  2019-08-07  21:13:59  \n",
       "243710  2019-08-07  21:14:43  \n",
       "243711  2019-08-07  21:14:58  \n",
       "243712  2019-08-07  21:15:17  \n",
       "\n",
       "[243713 rows x 6 columns]"
      ]
     },
     "execution_count": 7,
     "metadata": {},
     "output_type": "execute_result"
    }
   ],
   "source": [
    "# Drop the duplicated rows:  \n",
    "logs.drop_duplicates().reset_index(drop =True)"
   ]
  },
  {
   "cell_type": "markdown",
   "id": "32973a1e",
   "metadata": {},
   "source": [
    "### Step 3. Study and check the data:"
   ]
  },
  {
   "cell_type": "markdown",
   "id": "0415b944",
   "metadata": {},
   "source": [
    "#### number of logs, number of users: "
   ]
  },
  {
   "cell_type": "markdown",
   "id": "625668ad",
   "metadata": {},
   "source": [
    "* There are 243,713 logs after cleaning the data. \n",
    "* Assuming each user logs in through a single device, by grouping device id and counting the timestamp, we can find out :\n",
    "    * how many users are in the logs,\n",
    "    * how many events per user.  "
   ]
  },
  {
   "cell_type": "code",
   "execution_count": 8,
   "id": "481199ec",
   "metadata": {},
   "outputs": [
    {
     "data": {
      "text/html": [
       "<div>\n",
       "<style scoped>\n",
       "    .dataframe tbody tr th:only-of-type {\n",
       "        vertical-align: middle;\n",
       "    }\n",
       "\n",
       "    .dataframe tbody tr th {\n",
       "        vertical-align: top;\n",
       "    }\n",
       "\n",
       "    .dataframe thead th {\n",
       "        text-align: right;\n",
       "    }\n",
       "</style>\n",
       "<table border=\"1\" class=\"dataframe\">\n",
       "  <thead>\n",
       "    <tr style=\"text-align: right;\">\n",
       "      <th></th>\n",
       "      <th>device_id</th>\n",
       "      <th>number of logs</th>\n",
       "    </tr>\n",
       "  </thead>\n",
       "  <tbody>\n",
       "    <tr>\n",
       "      <th>0</th>\n",
       "      <td>6888746892508752</td>\n",
       "      <td>1</td>\n",
       "    </tr>\n",
       "    <tr>\n",
       "      <th>1</th>\n",
       "      <td>6909561520679493</td>\n",
       "      <td>5</td>\n",
       "    </tr>\n",
       "    <tr>\n",
       "      <th>2</th>\n",
       "      <td>6922444491712477</td>\n",
       "      <td>47</td>\n",
       "    </tr>\n",
       "    <tr>\n",
       "      <th>3</th>\n",
       "      <td>7435777799948366</td>\n",
       "      <td>6</td>\n",
       "    </tr>\n",
       "    <tr>\n",
       "      <th>4</th>\n",
       "      <td>7702139951469979</td>\n",
       "      <td>137</td>\n",
       "    </tr>\n",
       "  </tbody>\n",
       "</table>\n",
       "</div>"
      ],
      "text/plain": [
       "          device_id  number of logs\n",
       "0  6888746892508752               1\n",
       "1  6909561520679493               5\n",
       "2  6922444491712477              47\n",
       "3  7435777799948366               6\n",
       "4  7702139951469979             137"
      ]
     },
     "execution_count": 8,
     "metadata": {},
     "output_type": "execute_result"
    }
   ],
   "source": [
    "num_of_events = logs.groupby('device_id')['event_timestamp'].count().reset_index()\n",
    "num_of_events.columns=['device_id', 'number of logs']\n",
    "num_of_events.head(5)"
   ]
  },
  {
   "cell_type": "code",
   "execution_count": 9,
   "id": "c90a2508",
   "metadata": {},
   "outputs": [
    {
     "name": "stdout",
     "output_type": "stream",
     "text": [
      "number of users:\n"
     ]
    },
    {
     "data": {
      "text/plain": [
       "7551"
      ]
     },
     "execution_count": 9,
     "metadata": {},
     "output_type": "execute_result"
    }
   ],
   "source": [
    "print('number of users:')\n",
    "len(num_of_events)"
   ]
  },
  {
   "cell_type": "code",
   "execution_count": 19,
   "id": "dbf69f53",
   "metadata": {},
   "outputs": [],
   "source": [
    "# fig2 = px.box(num_of_events, y=\"number of logs\", title = 'number of logs')\n",
    "# fig2.show()"
   ]
  },
  {
   "attachments": {
    "newplot0.png": {
     "image/png": "[encoded data removed]"
    }
   },
   "cell_type": "markdown",
   "id": "d650c24a",
   "metadata": {},
   "source": [
    "![newplot0.png](attachment:newplot0.png)"
   ]
  },
  {
   "cell_type": "markdown",
   "id": "5df1ff8f",
   "metadata": {},
   "source": [
    "* In the graph above we can see that the majority of the users log into the system up to 100 times. \n",
    "* Its clear to see that the number of logs has a lot of outliers\n",
    "* those results irrelevant to the test"
   ]
  },
  {
   "cell_type": "code",
   "execution_count": 11,
   "id": "fcd4fa61",
   "metadata": {},
   "outputs": [
    {
     "name": "stdout",
     "output_type": "stream",
     "text": [
      "the minimum number of events per user:  1\n",
      "the average number of events per user:  32\n",
      "the median number of events per user:  20.0\n",
      "the maximum number of events per user  2308\n"
     ]
    }
   ],
   "source": [
    "print('the minimum number of events per user: ', num_of_events['number of logs'].min())\n",
    "print('the average number of events per user: ', round(num_of_events['number of logs'].mean()))\n",
    "print('the median number of events per user: ',num_of_events['number of logs'].median())\n",
    "print('the maximum number of events per user ', num_of_events['number of logs'].max())"
   ]
  },
  {
   "cell_type": "code",
   "execution_count": 12,
   "id": "6683d02b",
   "metadata": {},
   "outputs": [
    {
     "data": {
      "text/html": [
       "<div>\n",
       "<style scoped>\n",
       "    .dataframe tbody tr th:only-of-type {\n",
       "        vertical-align: middle;\n",
       "    }\n",
       "\n",
       "    .dataframe tbody tr th {\n",
       "        vertical-align: top;\n",
       "    }\n",
       "\n",
       "    .dataframe thead th {\n",
       "        text-align: right;\n",
       "    }\n",
       "</style>\n",
       "<table border=\"1\" class=\"dataframe\">\n",
       "  <thead>\n",
       "    <tr style=\"text-align: right;\">\n",
       "      <th></th>\n",
       "      <th>event_name</th>\n",
       "      <th>device_id</th>\n",
       "      <th>event_timestamp</th>\n",
       "      <th>exp_id</th>\n",
       "      <th>date</th>\n",
       "      <th>time</th>\n",
       "    </tr>\n",
       "  </thead>\n",
       "  <tbody>\n",
       "    <tr>\n",
       "      <th>58668</th>\n",
       "      <td>MainScreenAppear</td>\n",
       "      <td>7727722930231941028</td>\n",
       "      <td>1564752928</td>\n",
       "      <td>246</td>\n",
       "      <td>2019-08-02</td>\n",
       "      <td>13:35:28</td>\n",
       "    </tr>\n",
       "    <tr>\n",
       "      <th>120066</th>\n",
       "      <td>PaymentScreenSuccessful</td>\n",
       "      <td>1469446514770057243</td>\n",
       "      <td>1564916437</td>\n",
       "      <td>246</td>\n",
       "      <td>2019-08-04</td>\n",
       "      <td>11:00:37</td>\n",
       "    </tr>\n",
       "    <tr>\n",
       "      <th>474</th>\n",
       "      <td>MainScreenAppear</td>\n",
       "      <td>6274455082583969109</td>\n",
       "      <td>1564478778</td>\n",
       "      <td>246</td>\n",
       "      <td>2019-07-30</td>\n",
       "      <td>09:26:18</td>\n",
       "    </tr>\n",
       "    <tr>\n",
       "      <th>81641</th>\n",
       "      <td>MainScreenAppear</td>\n",
       "      <td>1407232096472976945</td>\n",
       "      <td>1564821353</td>\n",
       "      <td>248</td>\n",
       "      <td>2019-08-03</td>\n",
       "      <td>08:35:53</td>\n",
       "    </tr>\n",
       "    <tr>\n",
       "      <th>147435</th>\n",
       "      <td>OffersScreenAppear</td>\n",
       "      <td>6377824737203294106</td>\n",
       "      <td>1564991985</td>\n",
       "      <td>246</td>\n",
       "      <td>2019-08-05</td>\n",
       "      <td>07:59:45</td>\n",
       "    </tr>\n",
       "  </tbody>\n",
       "</table>\n",
       "</div>"
      ],
      "text/plain": [
       "                     event_name            device_id  event_timestamp  exp_id  \\\n",
       "58668          MainScreenAppear  7727722930231941028       1564752928     246   \n",
       "120066  PaymentScreenSuccessful  1469446514770057243       1564916437     246   \n",
       "474            MainScreenAppear  6274455082583969109       1564478778     246   \n",
       "81641          MainScreenAppear  1407232096472976945       1564821353     248   \n",
       "147435       OffersScreenAppear  6377824737203294106       1564991985     246   \n",
       "\n",
       "              date      time  \n",
       "58668   2019-08-02  13:35:28  \n",
       "120066  2019-08-04  11:00:37  \n",
       "474     2019-07-30  09:26:18  \n",
       "81641   2019-08-03  08:35:53  \n",
       "147435  2019-08-05  07:59:45  "
      ]
     },
     "execution_count": 12,
     "metadata": {},
     "output_type": "execute_result"
    }
   ],
   "source": [
    "logs.sample(5)"
   ]
  },
  {
   "cell_type": "code",
   "execution_count": 13,
   "id": "5ad8bf1b",
   "metadata": {},
   "outputs": [
    {
     "name": "stdout",
     "output_type": "stream",
     "text": [
      "the earliest log date:  2019-07-25\n",
      "the latest log date:  2019-08-07\n",
      "the earliest log time:  00:00:00\n",
      "the latest log time:  23:59:59\n"
     ]
    }
   ],
   "source": [
    "print('the earliest log date: ', logs['date'].min())\n",
    "print('the latest log date: ', logs['date'].max())\n",
    "print('the earliest log time: ', logs['time'].min())\n",
    "print('the latest log time: ', logs['time'].max())"
   ]
  },
  {
   "cell_type": "code",
   "execution_count": 14,
   "id": "bf6797a6",
   "metadata": {},
   "outputs": [],
   "source": [
    "grp_date = logs.groupby('date')['event_timestamp'].count().reset_index()\n",
    "grp_date.columns=['date','number of users']"
   ]
  },
  {
   "cell_type": "code",
   "execution_count": 17,
   "id": "c2e7a1c2",
   "metadata": {},
   "outputs": [],
   "source": [
    "# fig3 = px.histogram(logs, \n",
    "#                     x='date',\n",
    "#                     title = 'Date histogram')\n",
    "# fig3.update_layout(yaxis_title='Number of users', xaxis_title=\"Date\",)\n",
    "# fig3.show()\n"
   ]
  },
  {
   "attachments": {
    "newplot1.png": {
     "image/png": "[encoded data removed]"
    }
   },
   "cell_type": "markdown",
   "id": "122f60e4",
   "metadata": {},
   "source": [
    "![newplot1.png](attachment:newplot1.png)"
   ]
  },
  {
   "cell_type": "markdown",
   "id": "d7f76935",
   "metadata": {},
   "source": [
    "* By the graph above we can see that the user's logs are between July 25, to August 6. \n",
    "* From August 1,  there is a major leap from 5K to 36K. Maybe older events didn't end up for some users due to technical reasons.\n",
    "* I'm going to consider only the data from August.  "
   ]
  },
  {
   "cell_type": "code",
   "execution_count": 18,
   "id": "6eb0ad34",
   "metadata": {},
   "outputs": [],
   "source": [
    "# sort_log_by_time = logs.sort_values(by='time', ascending = True)\n",
    "# fig4 = px.histogram(sort_log_by_time, \n",
    "#                     x='time',\n",
    "#                     title = 'Time histogram')\n",
    "# fig4.update_layout(yaxis_title='Number of users', xaxis_title=\"Time\")\n",
    "# fig4.show()\n"
   ]
  },
  {
   "attachments": {
    "newplot2.png": {
     "image/png": "[encoded data removed]"
    }
   },
   "cell_type": "markdown",
   "id": "2e8c3cec",
   "metadata": {},
   "source": [
    "![newplot2.png](attachment:newplot2.png)"
   ]
  },
  {
   "cell_type": "markdown",
   "id": "94dca8ac",
   "metadata": {},
   "source": [
    "* By the graph above, we can see that most of the users logged in between 9:00 - 20:00 it makes sense. "
   ]
  },
  {
   "cell_type": "markdown",
   "id": "d3aa277d",
   "metadata": {},
   "source": [
    "#### Excluding the older data, and make sure nothing important got lost:"
   ]
  },
  {
   "cell_type": "code",
   "execution_count": 21,
   "id": "991dfbc0",
   "metadata": {
    "scrolled": false
   },
   "outputs": [
    {
     "name": "stdout",
     "output_type": "stream",
     "text": [
      "length of the dataset after exluding July logs: 222340\n",
      "number of the users after exluding July logs: 7404\n",
      "number of logs for each trial after exluding July logs:\n",
      "248    78140\n",
      "246    73412\n",
      "247    70788\n",
      "Name: exp_id, dtype: int64\n"
     ]
    }
   ],
   "source": [
    "# Let's check if we lose many events and users when excluding the older data,\n",
    "# and Make sure we have users from all three experimental groups:\n",
    "august_logs=logs.query('event_timestamp > 1564666847')\n",
    "print(\"length of the dataset after exluding July logs:\", len(august_logs))\n",
    "num_of_events_august = august_logs.groupby('device_id')['event_timestamp'].count().reset_index()\n",
    "print(\"number of the users after exluding July logs:\", len(num_of_events_august))\n",
    "print(\"number of logs for each trial after exluding July logs:\")\n",
    "print(august_logs['exp_id'].value_counts())"
   ]
  },
  {
   "cell_type": "markdown",
   "id": "978b4849",
   "metadata": {},
   "source": [
    "### Step 4. Study the event funnel:"
   ]
  },
  {
   "cell_type": "markdown",
   "id": "d5f6f4c8",
   "metadata": {},
   "source": [
    "#### frequency of occurrence and number of times each action been  performed:"
   ]
  },
  {
   "cell_type": "code",
   "execution_count": 23,
   "id": "782f2763",
   "metadata": {},
   "outputs": [],
   "source": [
    "# grp_by_event = august_logs.groupby(['event_name','date'])['event_timestamp'].count().reset_index()\n",
    "# grp_by_event.columns=['event_name', 'date', 'number of logs']\n",
    "# fig5 = px.line(grp_by_event, x='date', y='number of logs', color='event_name', title = 'frequency of events occurrence')\n",
    "# fig5.show()\n"
   ]
  },
  {
   "attachments": {
    "newplot3.png": {
     "image/png": "[encoded data removed]"
    }
   },
   "cell_type": "markdown",
   "id": "93e92a4a",
   "metadata": {},
   "source": [
    "![newplot3.png](attachment:newplot3.png)"
   ]
  },
  {
   "cell_type": "markdown",
   "id": "85b28694",
   "metadata": {},
   "source": [
    "* By the graph above we can see:\n",
    "    *  MainScreenAppear event is the most frequent, between 7.6K - 18.77K occurrences in one day\n",
    "    * OfferScreenAppear event is the second, between 3.3K - 7K occurrences in one day\n",
    "    * CartScreenAppear event is the third, between 3.3K - 6.5K occurrences in one day\n",
    "    * PayentScreenSuccesful event is the forth, between 2.69K - 5.2K occurrences in one day\n",
    "    * Tutorial event is the fifth, between 70 - 140 occurrences in one day"
   ]
  },
  {
   "cell_type": "code",
   "execution_count": 25,
   "id": "c6989e15",
   "metadata": {},
   "outputs": [
    {
     "data": {
      "text/html": [
       "<div>\n",
       "<style scoped>\n",
       "    .dataframe tbody tr th:only-of-type {\n",
       "        vertical-align: middle;\n",
       "    }\n",
       "\n",
       "    .dataframe tbody tr th {\n",
       "        vertical-align: top;\n",
       "    }\n",
       "\n",
       "    .dataframe thead th {\n",
       "        text-align: right;\n",
       "    }\n",
       "</style>\n",
       "<table border=\"1\" class=\"dataframe\">\n",
       "  <thead>\n",
       "    <tr style=\"text-align: right;\">\n",
       "      <th></th>\n",
       "      <th>event_name</th>\n",
       "      <th>number users</th>\n",
       "    </tr>\n",
       "  </thead>\n",
       "  <tbody>\n",
       "    <tr>\n",
       "      <th>1</th>\n",
       "      <td>MainScreenAppear</td>\n",
       "      <td>7282</td>\n",
       "    </tr>\n",
       "    <tr>\n",
       "      <th>2</th>\n",
       "      <td>OffersScreenAppear</td>\n",
       "      <td>4487</td>\n",
       "    </tr>\n",
       "    <tr>\n",
       "      <th>0</th>\n",
       "      <td>CartScreenAppear</td>\n",
       "      <td>3658</td>\n",
       "    </tr>\n",
       "    <tr>\n",
       "      <th>3</th>\n",
       "      <td>PaymentScreenSuccessful</td>\n",
       "      <td>3467</td>\n",
       "    </tr>\n",
       "    <tr>\n",
       "      <th>4</th>\n",
       "      <td>Tutorial</td>\n",
       "      <td>763</td>\n",
       "    </tr>\n",
       "  </tbody>\n",
       "</table>\n",
       "</div>"
      ],
      "text/plain": [
       "                event_name  number users\n",
       "1         MainScreenAppear          7282\n",
       "2       OffersScreenAppear          4487\n",
       "0         CartScreenAppear          3658\n",
       "3  PaymentScreenSuccessful          3467\n",
       "4                 Tutorial           763"
      ]
     },
     "execution_count": 25,
     "metadata": {},
     "output_type": "execute_result"
    }
   ],
   "source": [
    "#The number of users who performed each actions:\n",
    "num_of_user_each_action = august_logs.groupby('event_name')['device_id'].nunique().reset_index()\n",
    "num_of_user_each_action.columns=['event_name', 'number users']\n",
    "num_of_user_each_action.sort_values(by='number users', ascending = False)"
   ]
  },
  {
   "cell_type": "code",
   "execution_count": 26,
   "id": "ae133ea7",
   "metadata": {},
   "outputs": [
    {
     "data": {
      "text/html": [
       "<div>\n",
       "<style scoped>\n",
       "    .dataframe tbody tr th:only-of-type {\n",
       "        vertical-align: middle;\n",
       "    }\n",
       "\n",
       "    .dataframe tbody tr th {\n",
       "        vertical-align: top;\n",
       "    }\n",
       "\n",
       "    .dataframe thead th {\n",
       "        text-align: right;\n",
       "    }\n",
       "</style>\n",
       "<table border=\"1\" class=\"dataframe\">\n",
       "  <thead>\n",
       "    <tr style=\"text-align: right;\">\n",
       "      <th></th>\n",
       "      <th>event_name</th>\n",
       "      <th>number users</th>\n",
       "      <th>proportion</th>\n",
       "    </tr>\n",
       "  </thead>\n",
       "  <tbody>\n",
       "    <tr>\n",
       "      <th>1</th>\n",
       "      <td>MainScreenAppear</td>\n",
       "      <td>7282</td>\n",
       "      <td>0.983522</td>\n",
       "    </tr>\n",
       "    <tr>\n",
       "      <th>2</th>\n",
       "      <td>OffersScreenAppear</td>\n",
       "      <td>4487</td>\n",
       "      <td>0.606024</td>\n",
       "    </tr>\n",
       "    <tr>\n",
       "      <th>0</th>\n",
       "      <td>CartScreenAppear</td>\n",
       "      <td>3658</td>\n",
       "      <td>0.494057</td>\n",
       "    </tr>\n",
       "    <tr>\n",
       "      <th>3</th>\n",
       "      <td>PaymentScreenSuccessful</td>\n",
       "      <td>3467</td>\n",
       "      <td>0.468260</td>\n",
       "    </tr>\n",
       "    <tr>\n",
       "      <th>4</th>\n",
       "      <td>Tutorial</td>\n",
       "      <td>763</td>\n",
       "      <td>0.103052</td>\n",
       "    </tr>\n",
       "  </tbody>\n",
       "</table>\n",
       "</div>"
      ],
      "text/plain": [
       "                event_name  number users  proportion\n",
       "1         MainScreenAppear          7282    0.983522\n",
       "2       OffersScreenAppear          4487    0.606024\n",
       "0         CartScreenAppear          3658    0.494057\n",
       "3  PaymentScreenSuccessful          3467    0.468260\n",
       "4                 Tutorial           763    0.103052"
      ]
     },
     "execution_count": 26,
     "metadata": {},
     "output_type": "execute_result"
    }
   ],
   "source": [
    "# The proportion of users who performed the action at least once:\n",
    "num_of_user_each_action['proportion'] = num_of_user_each_action['number users']/len(num_of_events_august)\n",
    "num_of_user_each_action.sort_values(by='proportion', ascending = False)"
   ]
  },
  {
   "cell_type": "markdown",
   "id": "c45b04a6",
   "metadata": {},
   "source": [
    "I believe the actions took place in the following order: \n",
    "* enter the website to MainScreen\n",
    "* find products of interest and add that product to  the cart \n",
    "* CartScreenAppear\n",
    "* PaymentScreenSuccessful\t\n",
    "    * I believe 'Tutorial' is not part of the relevant actions. "
   ]
  },
  {
   "cell_type": "markdown",
   "id": "6b2bd8b1",
   "metadata": {},
   "source": [
    "#### Funnel:"
   ]
  },
  {
   "cell_type": "code",
   "execution_count": 28,
   "id": "53f55919",
   "metadata": {},
   "outputs": [],
   "source": [
    "# # funnel to find the share of users that proceed from each stage to the next:\n",
    "# fig6 = go.Figure(go.Funnel(\n",
    "#     y = [\"MainScreenAppear\", \"OffersScreenAppear\", \"CartScreenAppear \", \"PaymentScreenSuccessful\"],\n",
    "#     x = [7282, 4487, 3658, 3467, 763]))\n",
    "\n",
    "# fig6.show()"
   ]
  },
  {
   "attachments": {
    "newplot4.png": {
     "image/png": "[encoded data removed]"
    }
   },
   "cell_type": "markdown",
   "id": "7c2a3370",
   "metadata": {},
   "source": [
    "![newplot4.png](attachment:newplot4.png)"
   ]
  },
  {
   "cell_type": "markdown",
   "id": "8452d043",
   "metadata": {},
   "source": [
    "**By looking at the graph above we can see:** \n",
    "* 7282 users got into the main screen \n",
    "* 4487 users, 61%, move on to the offer screen \n",
    "* 3758 users, 50% , move on to the cart screen\n",
    "* only 3467 users,  47.6%, carry on to the payment stage, all the rest got lost in the earlier stages\n",
    "* we can see that most of the users got lost between the first and second stage"
   ]
  },
  {
   "cell_type": "markdown",
   "id": "32bd451d",
   "metadata": {},
   "source": [
    "### Step 5. Study the results of the experiment: "
   ]
  },
  {
   "cell_type": "markdown",
   "id": "6c39c1c1",
   "metadata": {},
   "source": [
    "##### in the following steps we will check if there is a statistically significant difference between samples:\n",
    "* 246 and 247,\n",
    "* 246 and 248,\n",
    "* 247 and 248,\n",
    "* 246+247 and 248\n",
    "* groups 246 and 247 are control groups and part of the A/A test, where we check our mechanisms and calculations,\n",
    "* Group 248 represents the results of the A/B test.  "
   ]
  },
  {
   "cell_type": "markdown",
   "id": "960cf47a",
   "metadata": {},
   "source": [
    "##### first find the number of users in each experiment:"
   ]
  },
  {
   "cell_type": "code",
   "execution_count": 29,
   "id": "18459f2d",
   "metadata": {},
   "outputs": [],
   "source": [
    "# assigning the experimnt size for the relevent integer:\n",
    "size_246 =  august_logs.query('exp_id==246')['device_id'].nunique()\n",
    "size_247 =  august_logs.query('exp_id==247')['device_id'].nunique()\n",
    "size_248 =  august_logs.query('exp_id==248')['device_id'].nunique()"
   ]
  },
  {
   "cell_type": "markdown",
   "id": "43cda659",
   "metadata": {},
   "source": [
    "**find the number of users in each step for every experiment:**"
   ]
  },
  {
   "cell_type": "code",
   "execution_count": 30,
   "id": "935dec32",
   "metadata": {},
   "outputs": [
    {
     "data": {
      "text/html": [
       "<div>\n",
       "<style scoped>\n",
       "    .dataframe tbody tr th:only-of-type {\n",
       "        vertical-align: middle;\n",
       "    }\n",
       "\n",
       "    .dataframe tbody tr th {\n",
       "        vertical-align: top;\n",
       "    }\n",
       "\n",
       "    .dataframe thead th {\n",
       "        text-align: right;\n",
       "    }\n",
       "</style>\n",
       "<table border=\"1\" class=\"dataframe\">\n",
       "  <thead>\n",
       "    <tr style=\"text-align: right;\">\n",
       "      <th>exp_id</th>\n",
       "      <th>event_name</th>\n",
       "      <th>246</th>\n",
       "      <th>247</th>\n",
       "      <th>248</th>\n",
       "    </tr>\n",
       "  </thead>\n",
       "  <tbody>\n",
       "    <tr>\n",
       "      <th>main</th>\n",
       "      <td>MainScreenAppear</td>\n",
       "      <td>2407</td>\n",
       "      <td>2432</td>\n",
       "      <td>2443</td>\n",
       "    </tr>\n",
       "    <tr>\n",
       "      <th>offers</th>\n",
       "      <td>OffersScreenAppear</td>\n",
       "      <td>1514</td>\n",
       "      <td>1476</td>\n",
       "      <td>1497</td>\n",
       "    </tr>\n",
       "    <tr>\n",
       "      <th>cart</th>\n",
       "      <td>CartScreenAppear</td>\n",
       "      <td>1244</td>\n",
       "      <td>1213</td>\n",
       "      <td>1201</td>\n",
       "    </tr>\n",
       "    <tr>\n",
       "      <th>payment</th>\n",
       "      <td>PaymentScreenSuccessful</td>\n",
       "      <td>1177</td>\n",
       "      <td>1134</td>\n",
       "      <td>1156</td>\n",
       "    </tr>\n",
       "    <tr>\n",
       "      <th>tutorial</th>\n",
       "      <td>Tutorial</td>\n",
       "      <td>252</td>\n",
       "      <td>254</td>\n",
       "      <td>257</td>\n",
       "    </tr>\n",
       "  </tbody>\n",
       "</table>\n",
       "</div>"
      ],
      "text/plain": [
       "exp_id                 event_name   246   247   248\n",
       "main             MainScreenAppear  2407  2432  2443\n",
       "offers         OffersScreenAppear  1514  1476  1497\n",
       "cart             CartScreenAppear  1244  1213  1201\n",
       "payment   PaymentScreenSuccessful  1177  1134  1156\n",
       "tutorial                 Tutorial   252   254   257"
      ]
     },
     "execution_count": 30,
     "metadata": {},
     "output_type": "execute_result"
    }
   ],
   "source": [
    "# find the number of users in each step for every experiment:\n",
    "sample=august_logs.pivot_table(index = 'event_name',\n",
    "                               columns= 'exp_id',\n",
    "                               values = 'device_id',\n",
    "                               aggfunc = 'nunique').reset_index()\n",
    "sample = sample.sort_values(by=246, ascending = False)\n",
    "# rename the columns and index for better orientation:\n",
    "\n",
    "sample.index =['main','offers', 'cart','payment','tutorial']\n",
    "\n",
    "sample\n",
    "\n"
   ]
  },
  {
   "cell_type": "markdown",
   "id": "b83174a0",
   "metadata": {},
   "source": [
    "##### define a function to calculate P-value:"
   ]
  },
  {
   "cell_type": "code",
   "execution_count": 31,
   "id": "175558b5",
   "metadata": {},
   "outputs": [],
   "source": [
    "def is_differ(success1, success2, experiment1, experiment2, alpha):\n",
    "    diff = ((success1/experiment1)-(success2/experiment2))\n",
    "    stat, pval = proportions_ztest([success1, success2], \n",
    "                                  [experiment1, experiment2],\n",
    "                                  diff)\n",
    "    print ('p-value:', pval)\n",
    "    if (pval < alpha):\n",
    "        print('we reject the null hyp, we cant say the pages are the same')\n",
    "    else :\n",
    "        print ('we cant reject the null hyp, we goin to assume the pages are the same')"
   ]
  },
  {
   "cell_type": "code",
   "execution_count": 32,
   "id": "96c0c0a4",
   "metadata": {},
   "outputs": [
    {
     "data": {
      "text/html": [
       "<div>\n",
       "<style scoped>\n",
       "    .dataframe tbody tr th:only-of-type {\n",
       "        vertical-align: middle;\n",
       "    }\n",
       "\n",
       "    .dataframe tbody tr th {\n",
       "        vertical-align: top;\n",
       "    }\n",
       "\n",
       "    .dataframe thead th {\n",
       "        text-align: right;\n",
       "    }\n",
       "</style>\n",
       "<table border=\"1\" class=\"dataframe\">\n",
       "  <thead>\n",
       "    <tr style=\"text-align: right;\">\n",
       "      <th>exp_id</th>\n",
       "      <th>event_name</th>\n",
       "      <th>246</th>\n",
       "      <th>247</th>\n",
       "      <th>248</th>\n",
       "    </tr>\n",
       "  </thead>\n",
       "  <tbody>\n",
       "    <tr>\n",
       "      <th>main</th>\n",
       "      <td>MainScreenAppear</td>\n",
       "      <td>2407</td>\n",
       "      <td>2432</td>\n",
       "      <td>2443</td>\n",
       "    </tr>\n",
       "    <tr>\n",
       "      <th>offers</th>\n",
       "      <td>OffersScreenAppear</td>\n",
       "      <td>1514</td>\n",
       "      <td>1476</td>\n",
       "      <td>1497</td>\n",
       "    </tr>\n",
       "    <tr>\n",
       "      <th>cart</th>\n",
       "      <td>CartScreenAppear</td>\n",
       "      <td>1244</td>\n",
       "      <td>1213</td>\n",
       "      <td>1201</td>\n",
       "    </tr>\n",
       "    <tr>\n",
       "      <th>payment</th>\n",
       "      <td>PaymentScreenSuccessful</td>\n",
       "      <td>1177</td>\n",
       "      <td>1134</td>\n",
       "      <td>1156</td>\n",
       "    </tr>\n",
       "    <tr>\n",
       "      <th>tutorial</th>\n",
       "      <td>Tutorial</td>\n",
       "      <td>252</td>\n",
       "      <td>254</td>\n",
       "      <td>257</td>\n",
       "    </tr>\n",
       "  </tbody>\n",
       "</table>\n",
       "</div>"
      ],
      "text/plain": [
       "exp_id                 event_name   246   247   248\n",
       "main             MainScreenAppear  2407  2432  2443\n",
       "offers         OffersScreenAppear  1514  1476  1497\n",
       "cart             CartScreenAppear  1244  1213  1201\n",
       "payment   PaymentScreenSuccessful  1177  1134  1156\n",
       "tutorial                 Tutorial   252   254   257"
      ]
     },
     "execution_count": 32,
     "metadata": {},
     "output_type": "execute_result"
    }
   ],
   "source": [
    "sample"
   ]
  },
  {
   "cell_type": "markdown",
   "id": "749e2240",
   "metadata": {},
   "source": [
    "#####  preforming Z test on experiments 246 and 247:"
   ]
  },
  {
   "cell_type": "code",
   "execution_count": 33,
   "id": "8e2b89bd",
   "metadata": {},
   "outputs": [
    {
     "name": "stdout",
     "output_type": "stream",
     "text": [
      "The MainScreen for tests 246 and 247 :\n",
      "p-value: 1.0\n",
      "we cant reject the null hyp, we goin to assume the pages are the same\n",
      "\n",
      "The OffersScreen for tests 246 and 247 :\n",
      "p-value: 1.0\n",
      "we cant reject the null hyp, we goin to assume the pages are the same\n",
      "\n",
      "The CartScreen for tests 246 and 247 :\n",
      "p-value: 1.0\n",
      "we cant reject the null hyp, we goin to assume the pages are the same\n",
      "\n",
      "The PaymentScreen for tests 246 and 247 :\n",
      "p-value: 1.0\n",
      "we cant reject the null hyp, we goin to assume the pages are the same\n"
     ]
    }
   ],
   "source": [
    "\n",
    "alpha = 0.05/4 # Bonferroni correction, we are goint to perform the tests 4 times\n",
    "print ('The MainScreen for tests 246 and 247 :')\n",
    "is_differ(sample.loc['main',246], sample.loc['main',247], size_246, size_247, alpha)\n",
    "print()\n",
    "print ('The OffersScreen for tests 246 and 247 :')\n",
    "is_differ(sample.loc['offers',246], sample.loc['offers',247], size_246, size_247, alpha)\n",
    "print()\n",
    "print ('The CartScreen for tests 246 and 247 :')\n",
    "is_differ(sample.loc['cart',246], sample.loc['cart',247], size_246, size_247, alpha)\n",
    "print()\n",
    "print ('The PaymentScreen for tests 246 and 247 :')\n",
    "is_differ(sample.loc['payment',246], sample.loc['payment',247], size_246, size_247, alpha)"
   ]
  },
  {
   "cell_type": "markdown",
   "id": "e13f8995",
   "metadata": {},
   "source": [
    "**experiment 246 and experiment 248 have the same conversion rate for the pages, the groups do not differ, I assume they were split properly**"
   ]
  },
  {
   "cell_type": "markdown",
   "id": "5be55b12",
   "metadata": {},
   "source": [
    "##### Comparison between  experiment 248 with each of the control groups for each event in isolation:"
   ]
  },
  {
   "cell_type": "code",
   "execution_count": 151,
   "id": "eb80b257",
   "metadata": {},
   "outputs": [
    {
     "name": "stdout",
     "output_type": "stream",
     "text": [
      "The MainScreen for tests 246 and 248 :\n",
      "p-value: 1.0\n",
      "we cant reject the null hyp, we goin to assume the pages are the same\n",
      "\n",
      "The OffersScreen for tests 246 and 248 :\n",
      "p-value: 1.0\n",
      "we cant reject the null hyp, we goin to assume the pages are the same\n",
      "\n",
      "The CartScreen for tests 246 and 248 :\n",
      "p-value: 1.0\n",
      "we cant reject the null hyp, we goin to assume the pages are the same\n",
      "\n",
      "The PaymentScreen for tests 246 and 248 :\n",
      "p-value: 1.0\n",
      "we cant reject the null hyp, we goin to assume the pages are the same\n",
      "The MainScreen for tests 248 and 247 :\n",
      "p-value: 1.0\n",
      "we cant reject the null hyp, we goin to assume the pages are the same\n",
      "\n",
      "The OffersScreen for tests 248 and 247 :\n",
      "p-value: 1.0\n",
      "we cant reject the null hyp, we goin to assume the pages are the same\n",
      "\n",
      "The CartScreen for tests 248 and 247 :\n",
      "p-value: 1.0\n",
      "we cant reject the null hyp, we goin to assume the pages are the same\n",
      "\n",
      "The PaymentScreen for tests 248 and 247 :\n",
      "p-value: 1.0\n",
      "we cant reject the null hyp, we goin to assume the pages are the same\n"
     ]
    }
   ],
   "source": [
    "alpha = 0.05/12 #Bonferroni correction, we are goint to perform the test 8 times plus the 4 tests we preformed above. \n",
    "print ('The MainScreen for tests 246 and 248 :')\n",
    "is_differ(sample.loc['main',246], sample.loc['main',248], size_246, size_248, alpha)\n",
    "print()\n",
    "print ('The OffersScreen for tests 246 and 248 :')\n",
    "is_differ(sample.loc['offers',246], sample.loc['offers',248], size_246, size_248, alpha)\n",
    "print()\n",
    "print ('The CartScreen for tests 246 and 248 :')\n",
    "is_differ(sample.loc['cart',246], sample.loc['cart',248], size_246, size_248, alpha)\n",
    "print()\n",
    "print ('The PaymentScreen for tests 246 and 248 :')\n",
    "is_differ(sample.loc['payment',246], sample.loc['payment',248], size_246, size_248, alpha)\n",
    "\n",
    "print ('The MainScreen for tests 248 and 247 :')\n",
    "is_differ(sample.loc['main',248], sample.loc['main',247], size_248, size_247, alpha)\n",
    "print()\n",
    "print ('The OffersScreen for tests 248 and 247 :')\n",
    "is_differ(sample.loc['offers',248], sample.loc['offers',247], size_248, size_247, alpha)\n",
    "print()\n",
    "print ('The CartScreen for tests 248 and 247 :')\n",
    "is_differ(sample.loc['cart',248], sample.loc['cart',247], size_248, size_247, alpha)\n",
    "print()\n",
    "print ('The PaymentScreen for tests 248 and 247 :')\n",
    "is_differ(sample.loc['payment',248], sample.loc['payment',247], size_248, size_247, alpha)"
   ]
  },
  {
   "cell_type": "markdown",
   "id": "df63f55c",
   "metadata": {},
   "source": [
    "**both experiments 246 and 248 have the same conversion rate for the pages, \n",
    "and both experiments 247 and 248 have the same conversion rate for the pages**"
   ]
  },
  {
   "cell_type": "markdown",
   "id": "9fcf43ba",
   "metadata": {},
   "source": [
    "##### Comparison between  experiment 248 with the combination of the control groups for each event in isolation:"
   ]
  },
  {
   "cell_type": "code",
   "execution_count": 152,
   "id": "5f9eaace",
   "metadata": {},
   "outputs": [
    {
     "name": "stdout",
     "output_type": "stream",
     "text": [
      "The MainScreen for tests 246+247 and 248 :\n",
      "p-value: 1.0\n",
      "we cant reject the null hyp, we goin to assume the pages are the same\n",
      "\n",
      "The OffersScreen for tests 246+247 and 248 :\n",
      "p-value: 1.0\n",
      "we cant reject the null hyp, we goin to assume the pages are the same\n",
      "\n",
      "The CartScreen for tests 246+247 and 248 :\n",
      "p-value: 1.0\n",
      "we cant reject the null hyp, we goin to assume the pages are the same\n",
      "\n",
      "The PaymentScreen for tests 246+247 and 248 :\n",
      "p-value: 1.0\n",
      "we cant reject the null hyp, we goin to assume the pages are the same\n"
     ]
    }
   ],
   "source": [
    "alpha = 0.05/16 #Bonferroni correction, we are goint to perform the another 4 times plus the 12 tests we preformed above. \n",
    "print ('The MainScreen for tests 246+247 and 248 :')\n",
    "is_differ(sample.loc['main',246]+sample.loc['main',247], sample.loc['main',248], size_246+size_247, size_248, alpha)\n",
    "print()\n",
    "print ('The OffersScreen for tests 246+247 and 248 :')\n",
    "is_differ(sample.loc['offers',246]+sample.loc['offers',247], sample.loc['offers',248], size_246+size_247, size_248, alpha)\n",
    "print()\n",
    "print ('The CartScreen for tests 246+247 and 248 :')\n",
    "is_differ(sample.loc['cart',246]+sample.loc['cart',247], sample.loc['cart',248], size_246+size_247, size_248, alpha)\n",
    "print()\n",
    "print ('The PaymentScreen for tests 246+247 and 248 :')\n",
    "is_differ(sample.loc['payment',246]+sample.loc['payment',247], sample.loc['payment',248], size_246+size_247, size_248, alpha)"
   ]
  },
  {
   "cell_type": "markdown",
   "id": "4a3382ee",
   "metadata": {},
   "source": [
    "We performed 16 tests on the same data. when we checked the hypothesis we set alpha to 0.05, which means there is a 5% chance that there is an error, and that we draw the wrong conclusion. \n",
    "When we performed 16 tests on the same data the chance of getting at least one false positive rises from 5% to 56%.\n",
    "That is the reason we need to set alpha with a lower value- 0.05/16=0.003125. \n",
    "In each step, I set alpha to 0.05/n, when n equals the number of times the test has been done so far.\n",
    "In all the tests we got a p-value of 1, which means, even if alpha had a lower value, the hypothesis could not be rejected. "
   ]
  },
  {
   "cell_type": "markdown",
   "id": "dc80b68b",
   "metadata": {},
   "source": [
    "##### conclusion: "
   ]
  },
  {
   "cell_type": "markdown",
   "id": "47a77199",
   "metadata": {},
   "source": [
    "For a startup that sells food products, there is a need to investigate user behavior for the company's app:\n",
    "The data holds information about users logging into the app and moving through the 4 stages to completing the purchases, from 01/08/2019 - 07/08/2019.\n",
    "By studying the funnel we can see: \n",
    "   * 7282 users got into the main screen \n",
    "    * 4487 users, 61%, move on to the offer screen \n",
    "    * 3758 users, 50% , move on to the cart screen\n",
    "    * only 3467 users,  47.6%, carry on to the payment stage, all the rest got lost in the earlier stages\n",
    "    * we can see that most of the users got lost between the first and second stage \n",
    "By doing the Z test and comparing the 4 experiments. We found that all the 3 experiments, for each event have similar conversion rates.  That indicates similar groups. \n",
    "There is no indication that shows that changing the font will bring more customers to complete the purchases. \n",
    "\n"
   ]
  },
  {
   "cell_type": "code",
   "execution_count": null,
   "id": "4dcaa488",
   "metadata": {},
   "outputs": [],
   "source": []
  }
 ],
 "metadata": {
  "kernelspec": {
   "display_name": "Python 3 (ipykernel)",
   "language": "python",
   "name": "python3"
  },
  "language_info": {
   "codemirror_mode": {
    "name": "ipython",
    "version": 3
   },
   "file_extension": ".py",
   "mimetype": "text/x-python",
   "name": "python",
   "nbconvert_exporter": "python",
   "pygments_lexer": "ipython3",
   "version": "3.9.7"
  }
 },
 "nbformat": 4,
 "nbformat_minor": 5
}
